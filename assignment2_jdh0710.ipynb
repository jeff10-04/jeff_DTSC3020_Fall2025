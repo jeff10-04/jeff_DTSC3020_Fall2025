{
  "nbformat": 4,
  "nbformat_minor": 0,
  "metadata": {
    "colab": {
      "provenance": [],
      "authorship_tag": "ABX9TyNwYlWEcgN8yCNHLPXR1f/x",
      "include_colab_link": true
    },
    "kernelspec": {
      "name": "python3",
      "display_name": "Python 3"
    },
    "language_info": {
      "name": "python"
    }
  },
  "cells": [
    {
      "cell_type": "markdown",
      "metadata": {
        "id": "view-in-github",
        "colab_type": "text"
      },
      "source": [
        "<a href=\"https://colab.research.google.com/github/jeff10-04/jeff_DTSC3020_Fall2025/blob/main/assignment2_jdh0710.ipynb\" target=\"_parent\"><img src=\"https://colab.research.google.com/assets/colab-badge.svg\" alt=\"Open In Colab\"/></a>"
      ]
    },
    {
      "cell_type": "code",
      "execution_count": 1,
      "metadata": {
        "colab": {
          "base_uri": "https://localhost:8080/"
        },
        "id": "mYYPWX4iUS9n",
        "outputId": "2c95fa1c-c484-44b5-cb5a-6811bfe831b7"
      },
      "outputs": [
        {
          "output_type": "stream",
          "name": "stdout",
          "text": [
            "['Watermelon', 'Apple', 'Bannana']\n",
            "Watermelon\n",
            "Apple\n",
            "Bannana\n"
          ]
        }
      ],
      "source": [
        "# 1. Fruits list\n",
        "fruits = [\"Watermelon\", \"Apple\", \"Bannana\"]\n",
        "print(fruits)\n",
        "print(fruits[0])\n",
        "print(fruits[1])\n",
        "print(fruits[2])"
      ]
    },
    {
      "cell_type": "code",
      "source": [
        "# 2. Names list\n",
        "names = [\"Chris\", \"Chen\", \"Jack\", \"Ken\"]\n",
        "names[0] = \"Reza\"\n",
        "print(names)"
      ],
      "metadata": {
        "colab": {
          "base_uri": "https://localhost:8080/"
        },
        "id": "9buCcj2bUdNh",
        "outputId": "89b093b4-1b81-4d12-beab-08aa4836d8da"
      },
      "execution_count": 2,
      "outputs": [
        {
          "output_type": "stream",
          "name": "stdout",
          "text": [
            "['Reza', 'Chen', 'Jack', 'Ken']\n"
          ]
        }
      ]
    },
    {
      "cell_type": "code",
      "source": [
        "# 3. Vehicles list\n",
        "vehicles = [\"F1 Car\", \"Double Deck Bus\", \"Bike\", \"Bullet Train\", \"Camaro\"]\n",
        "vehicles.append(\"scooter\")\n",
        "print(vehicles)"
      ],
      "metadata": {
        "colab": {
          "base_uri": "https://localhost:8080/"
        },
        "id": "m-_Qif0lUgUd",
        "outputId": "d0d6fbfd-d3f5-4527-fd70-52092b6935fc"
      },
      "execution_count": 3,
      "outputs": [
        {
          "output_type": "stream",
          "name": "stdout",
          "text": [
            "['F1 Car', 'Double Deck Bus', 'Bike', 'Bullet Train', 'Camaro', 'scooter']\n"
          ]
        }
      ]
    },
    {
      "cell_type": "code",
      "source": [
        "# 4. Foods list\n",
        "foods = [\"pizza\", \"burger\", \"pasta\", \"salad\", \"rice\", \"soup\"]\n",
        "foods.remove(\"salad\")\n",
        "print(foods)"
      ],
      "metadata": {
        "colab": {
          "base_uri": "https://localhost:8080/"
        },
        "id": "ZhJhaDAsUlDV",
        "outputId": "44910a22-dc71-4948-9eb0-021ca40590c4"
      },
      "execution_count": 4,
      "outputs": [
        {
          "output_type": "stream",
          "name": "stdout",
          "text": [
            "['pizza', 'burger', 'pasta', 'rice', 'soup']\n"
          ]
        }
      ]
    },
    {
      "cell_type": "code",
      "source": [
        "# 5. Cities list\n",
        "cities = [\"Baku\", \"Vegas\", \"Imola\", \"Sakuza\"]\n",
        "cities.sort()\n",
        "print(\"Sorted:\", cities)\n",
        "cities.reverse()\n",
        "print(\"Reversed:\", cities)"
      ],
      "metadata": {
        "colab": {
          "base_uri": "https://localhost:8080/"
        },
        "id": "nRZnsuAuUm8Z",
        "outputId": "55a27d3c-6f36-4ea2-c2e6-fabd332ad6e2"
      },
      "execution_count": 5,
      "outputs": [
        {
          "output_type": "stream",
          "name": "stdout",
          "text": [
            "Sorted: ['Baku', 'Imola', 'Sakuza', 'Vegas']\n",
            "Reversed: ['Vegas', 'Sakuza', 'Imola', 'Baku']\n"
          ]
        }
      ]
    },
    {
      "cell_type": "code",
      "source": [
        "# 6. Animals list with loop\n",
        "animals = [\"dog\", \"cat\", \"rabbit\"]\n",
        "for animal in animals:\n",
        "    print(animal)"
      ],
      "metadata": {
        "colab": {
          "base_uri": "https://localhost:8080/"
        },
        "id": "GmKKOgUIUpK3",
        "outputId": "d37c5123-81e2-4ccf-e999-583bef6bddea"
      },
      "execution_count": 6,
      "outputs": [
        {
          "output_type": "stream",
          "name": "stdout",
          "text": [
            "dog\n",
            "cat\n",
            "rabbit\n"
          ]
        }
      ]
    },
    {
      "cell_type": "code",
      "source": [
        "# 7. Numbers multiplied by 2\n",
        "numbers = [1, 2, 3, 4, 5]\n",
        "for num in numbers:\n",
        "    print(num * 2)"
      ],
      "metadata": {
        "colab": {
          "base_uri": "https://localhost:8080/"
        },
        "id": "ppGfNNYBUrUW",
        "outputId": "3872ef9d-c0aa-4e5d-c759-c9abd2c43d6d"
      },
      "execution_count": 7,
      "outputs": [
        {
          "output_type": "stream",
          "name": "stdout",
          "text": [
            "2\n",
            "4\n",
            "6\n",
            "8\n",
            "10\n"
          ]
        }
      ]
    },
    {
      "cell_type": "code",
      "source": [
        "# 8. Friends list\n",
        "friends = [\"Ale\", \"Meg\", \"Andrea\", \"Viv\", \"Tabs\", \"Tom\"]\n",
        "print(\"First three:\", friends[:3])\n",
        "print(\"Last three:\", friends[-3:])"
      ],
      "metadata": {
        "colab": {
          "base_uri": "https://localhost:8080/"
        },
        "id": "VEbWFVGaUvfl",
        "outputId": "a7414ae0-f4ef-4b93-ddb3-0b03fab8b2d1"
      },
      "execution_count": 8,
      "outputs": [
        {
          "output_type": "stream",
          "name": "stdout",
          "text": [
            "First three: ['Ale', 'Meg', 'Andrea']\n",
            "Last three: ['Viv', 'Tabs', 'Tom']\n"
          ]
        }
      ]
    },
    {
      "cell_type": "code",
      "source": [
        "# 9. Range numbers 1–10\n",
        "nums = list(range(1, 11))\n",
        "print(nums)"
      ],
      "metadata": {
        "colab": {
          "base_uri": "https://localhost:8080/"
        },
        "id": "zA5Qv4WsUwLC",
        "outputId": "57cbc812-fd53-4609-f4e7-d3405a3e1868"
      },
      "execution_count": 9,
      "outputs": [
        {
          "output_type": "stream",
          "name": "stdout",
          "text": [
            "[1, 2, 3, 4, 5, 6, 7, 8, 9, 10]\n"
          ]
        }
      ]
    },
    {
      "cell_type": "code",
      "source": [
        "# 10. Squares list comprehension\n",
        "squares = [x**2 for x in range(1, 6)]\n",
        "print(squares)"
      ],
      "metadata": {
        "colab": {
          "base_uri": "https://localhost:8080/"
        },
        "id": "nBxJqEmpU0tq",
        "outputId": "3c904593-a931-42a2-95c3-84ff40ea573a"
      },
      "execution_count": 10,
      "outputs": [
        {
          "output_type": "stream",
          "name": "stdout",
          "text": [
            "[1, 4, 9, 16, 25]\n"
          ]
        }
      ]
    }
  ]
}