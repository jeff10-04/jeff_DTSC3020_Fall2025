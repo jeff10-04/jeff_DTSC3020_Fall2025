{
  "nbformat": 4,
  "nbformat_minor": 0,
  "metadata": {
    "colab": {
      "provenance": [],
      "include_colab_link": true
    },
    "kernelspec": {
      "name": "python3",
      "display_name": "Python 3"
    },
    "language_info": {
      "name": "python"
    }
  },
  "cells": [
    {
      "cell_type": "markdown",
      "metadata": {
        "id": "view-in-github",
        "colab_type": "text"
      },
      "source": [
        "<a href=\"https://colab.research.google.com/github/jeff10-04/jeff_DTSC3020_Fall2025/blob/main/Student_In_Class_Assignment_Ch_8.ipynb\" target=\"_parent\"><img src=\"https://colab.research.google.com/assets/colab-badge.svg\" alt=\"Open In Colab\"/></a>"
      ]
    },
    {
      "cell_type": "markdown",
      "source": [
        "##Final Class Exercise"
      ],
      "metadata": {
        "id": "51gCuC6VJ3gu"
      }
    },
    {
      "cell_type": "markdown",
      "source": [
        "Write a Python function create_email(full_name) that builds a UNT email in the format\n",
        "firstname.lastname@my.unt.edu.\n",
        "\n",
        "Rules\n",
        "\n",
        " • Use the first and last word from full_name (case-insensitive).\n",
        "\n",
        " • Convert everything to lowercase.\n",
        "\n",
        " • If there is only one word, use it twice (e.g., \"ali\" → ali.ali@my.unt.edu).\n",
        "\n",
        " • Return the email string.\n",
        "\n",
        "\n",
        "Constraints\n",
        "\n",
        " • Use a function and return.\n",
        "\n",
        " • Do not use input() or external libraries.\n",
        "\n",
        "\n",
        " test your code with this list\n",
        " names = [\n",
        "    \"Sara Amini\",\n",
        "    \"Ali\",\n",
        "    \"Mary Jane\",\n",
        "    \"  John   Smith  \",\n",
        "    \"LINA\",\n",
        "    \"madonna\",\n",
        "    \"  sara   amini  \"\n",
        "]"
      ],
      "metadata": {
        "id": "7pxJ6i3jH7Yq"
      }
    },
    {
      "cell_type": "code",
      "source": [
        "def create_email(full_name):\n",
        "    full_name = full_name.strip()\n",
        "\n",
        "    name_parts = full_name.split()\n",
        "\n",
        "    if len(name_parts) >= 2:\n",
        "        first_name = name_parts[0]\n",
        "        last_name = name_parts[-1]\n",
        "    elif len(name_parts) == 1:\n",
        "        first_name = name_parts[0]\n",
        "        last_name = name_parts[0]\n",
        "    else:\n",
        "        return \"@my.unt.edu\"\n",
        "\n",
        "    email = f\"{first_name.lower()}.{last_name.lower()}@my.unt.edu\"\n",
        "    return email\n",
        "\n",
        "names = [\n",
        "    \"Sara Amini\",\n",
        "    \"Ali\",\n",
        "    \"Mary Jane\",\n",
        "    \"  John   Smith  \",\n",
        "    \"LINA\",\n",
        "    \"madonna\",\n",
        "    \"  sara   amini  \"\n",
        "]\n",
        "\n",
        "for name in names:\n",
        "    email = create_email(name)\n",
        "    print(f\"'{name}' -> '{email}'\")"
      ],
      "metadata": {
        "id": "6jcH9Qm_IXWh",
        "colab": {
          "base_uri": "https://localhost:8080/"
        },
        "outputId": "daf80797-c7a9-47d4-a9fd-bf9811ffc026"
      },
      "execution_count": 7,
      "outputs": [
        {
          "output_type": "stream",
          "name": "stdout",
          "text": [
            "'Sara Amini' -> 'sara.amini@my.unt.edu'\n",
            "'Ali' -> 'ali.ali@my.unt.edu'\n",
            "'Mary Jane' -> 'mary.jane@my.unt.edu'\n",
            "'  John   Smith  ' -> 'john.smith@my.unt.edu'\n",
            "'LINA' -> 'lina.lina@my.unt.edu'\n",
            "'madonna' -> 'madonna.madonna@my.unt.edu'\n",
            "'  sara   amini  ' -> 'sara.amini@my.unt.edu'\n"
          ]
        }
      ]
    }
  ]
}